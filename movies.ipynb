{
 "cells": [
  {
   "cell_type": "code",
   "execution_count": 1,
   "id": "500e3c34",
   "metadata": {},
   "outputs": [
    {
     "name": "stdout",
     "output_type": "stream",
     "text": [
      " Enter your favourite movie name : bat man\n",
      "Movies suggested for you : \n",
      "\n",
      "1 . Batman\n",
      "2 . Batman Returns\n",
      "3 . Batman & Robin\n",
      "4 . The Dark Knight Rises\n",
      "5 . Batman Begins\n",
      "6 . The Dark Knight\n",
      "7 . A History of Violence\n",
      "8 . Superman\n",
      "9 . Beetlejuice\n",
      "10 . Bedazzled\n",
      "11 . Mars Attacks!\n",
      "12 . The Sentinel\n",
      "13 . Planet of the Apes\n",
      "14 . Man of Steel\n",
      "15 . Suicide Squad\n",
      "16 . The Mask\n",
      "17 . Salton Sea\n",
      "18 . Spider-Man 3\n",
      "19 . The Postman Always Rings Twice\n",
      "20 . Hang 'em High\n",
      "21 . Spider-Man 2\n",
      "22 . Dungeons & Dragons: Wrath of the Dragon God\n",
      "23 . Superman Returns\n",
      "24 . Jonah Hex\n",
      "25 . Exorcist II: The Heretic\n",
      "26 . Superman II\n",
      "27 . Green Lantern\n",
      "28 . Superman III\n",
      "29 . Something's Gotta Give\n"
     ]
    }
   ],
   "source": [
    "import numpy as np\n",
    "import pandas as pd\n",
    "import difflib\n",
    "from sklearn.feature_extraction.text import TfidfVectorizer\n",
    "from sklearn.metrics.pairwise import cosine_similarity\n",
    "movies_data = pd.read_csv('movies.csv')\n",
    "selected_features = ['genres','keywords','tagline','cast','director']\n",
    "for feature in selected_features:\n",
    "  movies_data[feature] = movies_data[feature].fillna('')\n",
    "combined_features = movies_data['genres']+' '+movies_data['keywords']+' '+movies_data['tagline']+' '+movies_data['cast']+' '+movies_data['director']\n",
    "vectorizer = TfidfVectorizer()\n",
    "feature_vectors = vectorizer.fit_transform(combined_features)\n",
    "similarity = cosine_similarity(feature_vectors)\n",
    "movie_name = input(' Enter your favourite movie name : ')\n",
    "list_of_all_titles = movies_data['title'].tolist()\n",
    "find_close_match = difflib.get_close_matches(movie_name, list_of_all_titles)\n",
    "close_match = find_close_match[0]\n",
    "index_of_the_movie = movies_data[movies_data.title == close_match]['index'].values[0]\n",
    "similarity_score = list(enumerate(similarity[index_of_the_movie]))\n",
    "sorted_similar_movies = sorted(similarity_score, key = lambda x:x[1], reverse = True) \n",
    "print('Movies suggested for you : \\n')\n",
    "i = 1\n",
    "for movie in sorted_similar_movies:\n",
    "  index = movie[0]\n",
    "  title_from_index = movies_data[movies_data.index==index]['title'].values[0]\n",
    "  if (i<30):\n",
    "    print(i, '.',title_from_index)\n",
    "    i+=1"
   ]
  },
  {
   "cell_type": "code",
   "execution_count": null,
   "id": "7d4e4896",
   "metadata": {},
   "outputs": [],
   "source": []
  }
 ],
 "metadata": {
  "kernelspec": {
   "display_name": "Python 3 (ipykernel)",
   "language": "python",
   "name": "python3"
  },
  "language_info": {
   "codemirror_mode": {
    "name": "ipython",
    "version": 3
   },
   "file_extension": ".py",
   "mimetype": "text/x-python",
   "name": "python",
   "nbconvert_exporter": "python",
   "pygments_lexer": "ipython3",
   "version": "3.9.13"
  }
 },
 "nbformat": 4,
 "nbformat_minor": 5
}
